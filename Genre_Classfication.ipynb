{
  "nbformat": 4,
  "nbformat_minor": 0,
  "metadata": {
    "colab": {
      "provenance": [],
      "mount_file_id": "1jfgu46TK-yYwqBAe_Tn-yf1-1naBRt0a",
      "authorship_tag": "ABX9TyPEfp5Nelr5gb2a2fhGzhit",
      "include_colab_link": true
    },
    "kernelspec": {
      "name": "python3",
      "display_name": "Python 3"
    },
    "language_info": {
      "name": "python"
    },
    "accelerator": "GPU",
    "gpuClass": "standard"
  },
  "cells": [
    {
      "cell_type": "markdown",
      "metadata": {
        "id": "view-in-github",
        "colab_type": "text"
      },
      "source": [
        "<a href=\"https://colab.research.google.com/github/PulseProgrammer/Genre_Classification/blob/main/Genre_Classfication.ipynb\" target=\"_parent\"><img src=\"https://colab.research.google.com/assets/colab-badge.svg\" alt=\"Open In Colab\"/></a>"
      ]
    },
    {
      "cell_type": "code",
      "execution_count": null,
      "metadata": {
        "id": "asj6YuMjKSSm"
      },
      "outputs": [],
      "source": [
        "import warnings\n",
        "warnings.filterwarnings('ignore')\n",
        "import pandas as pd\n",
        "import numpy as np\n",
        "import librosa\n",
        "import matplotlib.pyplot as plt\n",
        "\n",
        "import os\n",
        "from PIL import Image\n",
        "from pathlib import Path\n",
        "import csv\n",
        "\n",
        "from sklearn.model_selection import train_test_split\n",
        "from sklearn.preprocessing import LabelEncoder, StandardScaler\n",
        "\n",
        "from sklearn.linear_model import LinearRegression\n",
        "from sklearn.svm import SVC\n",
        "from sklearn.ensemble import RandomForestClassifier\n",
        "\n",
        "import tensorflow as tf\n",
        "import keras\n",
        "import librosa.display\n",
        "from tensorflow.keras.layers import Input\n"
      ]
    },
    {
      "cell_type": "code",
      "source": [
        "songname = f'/content/drive/MyDrive/genres/blues/blues.00000.wav'\n",
        "y, sr = librosa.load(songname, mono=True, duration=2, offset=0)\n",
        "ps = librosa.feature.melspectrogram(y=y, sr=sr, hop_length = 256, n_fft = 512, n_mels=128)\n",
        "ps = librosa.power_to_db(ps**2)\n",
        "ps.shape"
      ],
      "metadata": {
        "colab": {
          "base_uri": "https://localhost:8080/"
        },
        "id": "Q9gZluCCKmSF",
        "outputId": "9f2e4403-4a0f-40ea-ab9e-0e47bff347e7"
      },
      "execution_count": null,
      "outputs": [
        {
          "output_type": "execute_result",
          "data": {
            "text/plain": [
              "(128, 173)"
            ]
          },
          "metadata": {},
          "execution_count": 2
        }
      ]
    },
    {
      "cell_type": "code",
      "source": [
        "dataset = []\n",
        "genres = {'blues': 0, 'classical': 1, 'country': 2, 'disco': 3, 'hiphop': 4, \n",
        "        'jazz': 5, 'metal': 6, 'pop': 7, 'reggae': 8, 'rock': 9}\n",
        "\n",
        "for genre, genre_number in genres.items():\n",
        "    for filename in os.listdir(f'/content/drive/MyDrive/genres/{genre}'):\n",
        "        songname = f'/content/drive/MyDrive/genres/{genre}/{filename}'\n",
        "        for index in range(14):\n",
        "            y, sr = librosa.load(songname, mono=True, duration=2, offset=index*2)\n",
        "            ps = librosa.feature.melspectrogram(y=y, sr=sr, hop_length = 256, n_fft = 512, n_mels=64)\n",
        "            ps = librosa.power_to_db(ps**2)\n",
        "            dataset.append( (ps, genre_number) )"
      ],
      "metadata": {
        "id": "C280ruJtKuCk"
      },
      "execution_count": null,
      "outputs": []
    },
    {
      "cell_type": "code",
      "source": [
        "print(len(dataset))\n",
        "\n"
      ],
      "metadata": {
        "colab": {
          "base_uri": "https://localhost:8080/"
        },
        "id": "UXd9tOjDK84X",
        "outputId": "d6b2d3b9-f45b-4ce5-de47-931f92879d57"
      },
      "execution_count": null,
      "outputs": [
        {
          "output_type": "stream",
          "name": "stdout",
          "text": [
            "13986\n"
          ]
        }
      ]
    },
    {
      "cell_type": "code",
      "source": [
        "import random\n",
        "\n",
        "random.shuffle(dataset)\n",
        "\n",
        "train = dataset[:10000]\n",
        "valid = dataset[10000:12000]\n",
        "test = dataset[12000:]\n",
        "\n",
        "X_train, Y_train = zip(*train)\n",
        "X_valid, Y_valid = zip(*valid)\n",
        "X_test, Y_test = zip(*test)\n",
        "\n",
        "# Reshape for CNN input\n",
        "X_train = np.array([x.reshape( (64, 173, 1) ) for x in X_train])\n",
        "X_valid = np.array([x.reshape( (64, 173, 1) ) for x in X_valid])\n",
        "X_test = np.array([x.reshape( (64, 173, 1) ) for x in X_test])\n",
        "\n",
        "# One-Hot encoding for classes\n",
        "Y_train = np.array(keras.utils.to_categorical(Y_train, 10))\n",
        "Y_valid = np.array(keras.utils.to_categorical(Y_valid, 10))\n",
        "Y_test = np.array(keras.utils.to_categorical(Y_test, 10))\n"
      ],
      "metadata": {
        "id": "ChFlJBDZWLQV"
      },
      "execution_count": null,
      "outputs": []
    },
    {
      "cell_type": "code",
      "source": [
        "print(Y_test.shape)"
      ],
      "metadata": {
        "colab": {
          "base_uri": "https://localhost:8080/"
        },
        "id": "1rv0YtMKdGI0",
        "outputId": "c26b5dea-cc8c-4e28-e89c-4e41e5e2a6d8"
      },
      "execution_count": null,
      "outputs": [
        {
          "output_type": "stream",
          "name": "stdout",
          "text": [
            "(1986, 10)\n"
          ]
        }
      ]
    },
    {
      "cell_type": "code",
      "source": [
        "len(X_train)\n",
        "X_train.shape\n",
        "n_features = X_train.shape[2]\n",
        "input_shape = (None, X_train.shape[1])\n",
        "print(input_shape)\n",
        "model_input = Input(input_shape, name='input')\n",
        "print(model_input)\n",
        "X_train.shape"
      ],
      "metadata": {
        "colab": {
          "base_uri": "https://localhost:8080/"
        },
        "id": "C7MhSS96WPDP",
        "outputId": "6021011d-938e-4af5-b7ba-9be879212ec3"
      },
      "execution_count": null,
      "outputs": [
        {
          "output_type": "stream",
          "name": "stdout",
          "text": [
            "(None, 64)\n",
            "KerasTensor(type_spec=TensorSpec(shape=(None, None, 64), dtype=tf.float32, name='input'), name='input', description=\"created by layer 'input'\")\n"
          ]
        },
        {
          "output_type": "execute_result",
          "data": {
            "text/plain": [
              "(10000, 64, 173, 1)"
            ]
          },
          "metadata": {},
          "execution_count": 7
        }
      ]
    },
    {
      "cell_type": "code",
      "source": [
        "import keras\n",
        "# Classification with Keras\n",
        "# Building our Network\n",
        "from keras import models\n",
        "from keras import layers\n",
        "from keras import Input, backend, Model\n",
        "from keras.layers import LSTM\n",
        "from keras.models import Sequential\n",
        "from keras.layers import Dense, Lambda\n",
        "from keras.layers import Activation\n",
        "from keras.layers import Conv2D\n",
        "from keras.layers import MaxPooling2D\n",
        "from keras.layers import Dropout\n",
        "from keras.layers import Flatten, GRU\n",
        "from keras.layers import BatchNormalization\n",
        "from keras.layers import AveragePooling2D\n",
        "from keras.layers import TimeDistributed\n",
        "\n",
        "from keras import regularizers\n",
        "model = Sequential()\n",
        "\n",
        "model.add(Conv2D(20, (5, 5), input_shape=(64, 173, 1),\n",
        "                 activation=\"relu\", strides=1, padding=\"valid\"))\n",
        "model.add(MaxPooling2D(pool_size=(2, 2)))\n",
        "model.add(Conv2D(50, (5, 5), use_bias=50))\n",
        "model.add(MaxPooling2D(pool_size=(2, 2)))\n",
        "model.add(Flatten())\n",
        "model.add(Dense(20, activation=\"relu\"))\n",
        "model.add(Lambda(lambda x: backend.expand_dims(x, axis=-1)))\n",
        "model.add(LSTM(512, activation=\"relu\", return_sequences=False))\n",
        "model.add(Dense(10, activation = \"softmax\"))\n",
        "model.summary()\n"
      ],
      "metadata": {
        "colab": {
          "base_uri": "https://localhost:8080/"
        },
        "id": "B9HZWJL9W6PD",
        "outputId": "58d95203-2b5d-4aab-872f-2c6c4cf6c9aa"
      },
      "execution_count": null,
      "outputs": [
        {
          "output_type": "stream",
          "name": "stderr",
          "text": [
            "WARNING:tensorflow:Layer lstm will not use cuDNN kernels since it doesn't meet the criteria. It will use a generic GPU kernel as fallback when running on GPU.\n"
          ]
        },
        {
          "output_type": "stream",
          "name": "stdout",
          "text": [
            "Model: \"sequential\"\n",
            "_________________________________________________________________\n",
            " Layer (type)                Output Shape              Param #   \n",
            "=================================================================\n",
            " conv2d (Conv2D)             (None, 60, 169, 20)       520       \n",
            "                                                                 \n",
            " max_pooling2d (MaxPooling2D  (None, 30, 84, 20)       0         \n",
            " )                                                               \n",
            "                                                                 \n",
            " conv2d_1 (Conv2D)           (None, 26, 80, 50)        25050     \n",
            "                                                                 \n",
            " max_pooling2d_1 (MaxPooling  (None, 13, 40, 50)       0         \n",
            " 2D)                                                             \n",
            "                                                                 \n",
            " flatten (Flatten)           (None, 26000)             0         \n",
            "                                                                 \n",
            " dense (Dense)               (None, 20)                520020    \n",
            "                                                                 \n",
            " lambda (Lambda)             (None, 20, 1)             0         \n",
            "                                                                 \n",
            " lstm (LSTM)                 (None, 512)               1052672   \n",
            "                                                                 \n",
            " dense_1 (Dense)             (None, 10)                5130      \n",
            "                                                                 \n",
            "=================================================================\n",
            "Total params: 1,603,392\n",
            "Trainable params: 1,603,392\n",
            "Non-trainable params: 0\n",
            "_________________________________________________________________\n"
          ]
        }
      ]
    },
    {
      "cell_type": "code",
      "source": [
        "from keras.optimizers import Adam\n",
        "model.compile(optimizer=Adam(lr = 1e-5), loss=\"categorical_crossentropy\", metrics=['accuracy'])"
      ],
      "metadata": {
        "id": "wWqQvXwLXR1_"
      },
      "execution_count": null,
      "outputs": []
    },
    {
      "cell_type": "code",
      "source": [
        "from keras.callbacks import EarlyStopping\n",
        "early_stopping = EarlyStopping(monitor='val_loss', patience=20, verbose=2)\n",
        "history_1 = model.fit(X_train, Y_train, epochs=30, batch_size=64, validation_data= (X_test, Y_test), callbacks=[early_stopping])"
      ],
      "metadata": {
        "colab": {
          "base_uri": "https://localhost:8080/"
        },
        "id": "u-CPktu7XTD2",
        "outputId": "ee64f02c-8cc4-472e-e402-d60bdbfc09d5"
      },
      "execution_count": null,
      "outputs": [
        {
          "output_type": "stream",
          "name": "stdout",
          "text": [
            "Epoch 1/30\n",
            "157/157 [==============================] - 21s 65ms/step - loss: 2.2528 - accuracy: 0.1077 - val_loss: 2.1191 - val_accuracy: 0.1848\n",
            "Epoch 2/30\n",
            "157/157 [==============================] - 10s 62ms/step - loss: 2.0769 - accuracy: 0.2256 - val_loss: 1.9420 - val_accuracy: 0.3167\n",
            "Epoch 3/30\n",
            "157/157 [==============================] - 10s 63ms/step - loss: 1.8965 - accuracy: 0.3134 - val_loss: 1.8174 - val_accuracy: 0.3283\n",
            "Epoch 4/30\n",
            "157/157 [==============================] - 8s 51ms/step - loss: 1.8023 - accuracy: 0.3448 - val_loss: 1.7465 - val_accuracy: 0.3585\n",
            "Epoch 5/30\n",
            "157/157 [==============================] - 10s 62ms/step - loss: 1.7266 - accuracy: 0.3756 - val_loss: 1.6763 - val_accuracy: 0.3943\n",
            "Epoch 6/30\n",
            "157/157 [==============================] - 10s 63ms/step - loss: 1.6525 - accuracy: 0.3966 - val_loss: 1.5895 - val_accuracy: 0.4099\n",
            "Epoch 7/30\n",
            "157/157 [==============================] - 8s 52ms/step - loss: 1.5863 - accuracy: 0.4154 - val_loss: 1.5682 - val_accuracy: 0.4174\n",
            "Epoch 8/30\n",
            "157/157 [==============================] - 10s 64ms/step - loss: 1.5243 - accuracy: 0.4419 - val_loss: 1.5112 - val_accuracy: 0.4597\n",
            "Epoch 9/30\n",
            "157/157 [==============================] - 10s 63ms/step - loss: 1.4898 - accuracy: 0.4594 - val_loss: 1.4697 - val_accuracy: 0.4789\n",
            "Epoch 10/30\n",
            "157/157 [==============================] - 8s 52ms/step - loss: 1.4575 - accuracy: 0.4720 - val_loss: 1.4665 - val_accuracy: 0.4829\n",
            "Epoch 11/30\n",
            "157/157 [==============================] - 10s 64ms/step - loss: 1.4394 - accuracy: 0.4734 - val_loss: 1.4444 - val_accuracy: 0.4869\n",
            "Epoch 12/30\n",
            "157/157 [==============================] - 10s 64ms/step - loss: 1.4056 - accuracy: 0.4922 - val_loss: 1.4153 - val_accuracy: 0.4864\n",
            "Epoch 13/30\n",
            "157/157 [==============================] - 8s 51ms/step - loss: 1.3849 - accuracy: 0.4973 - val_loss: 1.4155 - val_accuracy: 0.4935\n",
            "Epoch 14/30\n",
            "157/157 [==============================] - 10s 65ms/step - loss: 1.3656 - accuracy: 0.5046 - val_loss: 1.4005 - val_accuracy: 0.5060\n",
            "Epoch 15/30\n",
            "157/157 [==============================] - 10s 63ms/step - loss: 1.3424 - accuracy: 0.5182 - val_loss: 1.3816 - val_accuracy: 0.5055\n",
            "Epoch 16/30\n",
            "157/157 [==============================] - 9s 56ms/step - loss: 1.3278 - accuracy: 0.5219 - val_loss: 1.3567 - val_accuracy: 0.5171\n",
            "Epoch 17/30\n",
            "157/157 [==============================] - 9s 59ms/step - loss: 1.3120 - accuracy: 0.5301 - val_loss: 1.3461 - val_accuracy: 0.5352\n",
            "Epoch 18/30\n",
            "157/157 [==============================] - 10s 63ms/step - loss: 1.2841 - accuracy: 0.5444 - val_loss: 1.3265 - val_accuracy: 0.5378\n",
            "Epoch 19/30\n",
            "157/157 [==============================] - 9s 59ms/step - loss: 1.2691 - accuracy: 0.5456 - val_loss: 1.3359 - val_accuracy: 0.5373\n",
            "Epoch 20/30\n",
            "157/157 [==============================] - 9s 55ms/step - loss: 1.2446 - accuracy: 0.5606 - val_loss: 1.2936 - val_accuracy: 0.5524\n",
            "Epoch 21/30\n",
            "157/157 [==============================] - 10s 65ms/step - loss: 1.2335 - accuracy: 0.5593 - val_loss: 1.3402 - val_accuracy: 0.5363\n",
            "Epoch 22/30\n",
            "157/157 [==============================] - 10s 62ms/step - loss: 1.2245 - accuracy: 0.5650 - val_loss: 1.2566 - val_accuracy: 0.5650\n",
            "Epoch 23/30\n",
            "157/157 [==============================] - 8s 52ms/step - loss: 1.2017 - accuracy: 0.5746 - val_loss: 1.3109 - val_accuracy: 0.5448\n",
            "Epoch 24/30\n",
            "157/157 [==============================] - 10s 64ms/step - loss: 1.1915 - accuracy: 0.5785 - val_loss: 1.2358 - val_accuracy: 0.5710\n",
            "Epoch 25/30\n",
            "157/157 [==============================] - 10s 63ms/step - loss: 1.1728 - accuracy: 0.5898 - val_loss: 1.2832 - val_accuracy: 0.5514\n",
            "Epoch 26/30\n",
            "157/157 [==============================] - 8s 50ms/step - loss: 1.1569 - accuracy: 0.5907 - val_loss: 1.2399 - val_accuracy: 0.5740\n",
            "Epoch 27/30\n",
            "157/157 [==============================] - 10s 63ms/step - loss: 1.1589 - accuracy: 0.5929 - val_loss: 1.2226 - val_accuracy: 0.5760\n",
            "Epoch 28/30\n",
            "157/157 [==============================] - 10s 63ms/step - loss: 1.1343 - accuracy: 0.6009 - val_loss: 1.2863 - val_accuracy: 0.5574\n",
            "Epoch 29/30\n",
            "157/157 [==============================] - 8s 52ms/step - loss: 1.1207 - accuracy: 0.6024 - val_loss: 1.2515 - val_accuracy: 0.5614\n",
            "Epoch 30/30\n",
            "157/157 [==============================] - 11s 67ms/step - loss: 1.1139 - accuracy: 0.6065 - val_loss: 1.1904 - val_accuracy: 0.5866\n"
          ]
        }
      ]
    },
    {
      "cell_type": "code",
      "source": [
        "model.save(\"/content/my_cnn_model.h5\")"
      ],
      "metadata": {
        "id": "zz7MMfQvepIa"
      },
      "execution_count": null,
      "outputs": []
    },
    {
      "cell_type": "code",
      "source": [
        "plt.figure(figsize=(12,8))\n",
        "plt.plot(history_1.history['accuracy'])\n",
        "plt.plot(history_1.history['val_accuracy'])\n",
        "plt.legend(['accuracy','val_accuracy'])\n",
        "plt.show()\n",
        "\n",
        "# Plot the loss and validation loss\n",
        "plt.figure(figsize=(12,8))\n",
        "plt.plot(history_1.history['loss'])\n",
        "plt.plot(history_1.history['val_loss'])\n",
        "plt.legend(['loss','val_loss'])\n",
        "plt.show()\n",
        "\n",
        "# Evaluate the model on the training and test data\n",
        "train_loss, train_acc = model.evaluate(X_train, Y_train, verbose=2)\n",
        "test_loss, test_acc = model.evaluate(X_test, Y_test, verbose=2)\n",
        "print('Training accuracy:', train_acc)\n",
        "print('Test accuracy:', test_acc)"
      ],
      "metadata": {
        "id": "rT5H-IrDgaGG",
        "colab": {
          "base_uri": "https://localhost:8080/",
          "height": 1000
        },
        "outputId": "84e90cdf-0e71-482a-ad36-263b1c0b00d4"
      },
      "execution_count": null,
      "outputs": [
        {
          "output_type": "display_data",
          "data": {
            "text/plain": [
              "<Figure size 864x576 with 1 Axes>"
            ],
            "image/png": "[encoded data removed]"
          },
          "metadata": {
            "needs_background": "light"
          }
        },
        {
          "output_type": "display_data",
          "data": {
            "text/plain": [
              "<Figure size 864x576 with 1 Axes>"
            ],
            "image/png": "[encoded data removed]"
          },
          "metadata": {
            "needs_background": "light"
          }
        },
        {
          "output_type": "stream",
          "name": "stdout",
          "text": [
            "313/313 - 2s - loss: 1.0584 - accuracy: 0.6306 - 2s/epoch - 5ms/step\n",
            "63/63 - 1s - loss: 1.1904 - accuracy: 0.5866 - 507ms/epoch - 8ms/step\n",
            "Training accuracy: 0.6305999755859375\n",
            "Test accuracy: 0.5866062641143799\n"
          ]
        }
      ]
    },
    {
      "cell_type": "code",
      "source": [
        "import librosa\n",
        "import numpy as np\n",
        "from keras.models import load_model\n",
        "\n",
        "# Load the trained model\n",
        "model = load_model(\"/content/my_cnn_model.h5\")\n",
        "\n",
        "# Load and preprocess the audio sample\n",
        "y, sr = librosa.load(\"/content/drive/MyDrive/genres/jazz/jazz.00015.wav\", mono=True, duration=30)\n",
        "ps = librosa.feature.melspectrogram(y=y, sr=sr, hop_length=256, n_fft=512, n_mels=64)\n",
        "ps = librosa.power_to_db(ps**2)\n",
        "ps = ps.reshape((1, ps.shape[0], ps.shape[1], 1))\n",
        "print(ps.shape)\n",
        "ps_cropped = ps[:, :, :173, :]\n",
        "ps_reshaped = ps_cropped.reshape((-1, 64, 173, 1))\n",
        "\n",
        "\n",
        "# Make the prediction\n",
        "prediction = model.predict(ps_reshaped)\n",
        "\n",
        "# Print the predicted genre\n",
        "predicted_genre = np.argmax(prediction)\n",
        "genres = ['blues', 'classical', 'country', 'disco', 'hiphop', 'jazz', 'metal', 'pop', 'reggae', 'rock']\n",
        "print(\"Predicted genre:\", genres[predicted_genre])\n"
      ],
      "metadata": {
        "colab": {
          "base_uri": "https://localhost:8080/"
        },
        "id": "IPgFnxcpe6UZ",
        "outputId": "6712a560-9b68-4e24-b7b8-58dcee68ba7b"
      },
      "execution_count": null,
      "outputs": [
        {
          "output_type": "stream",
          "name": "stderr",
          "text": [
            "WARNING:tensorflow:Layer lstm will not use cuDNN kernels since it doesn't meet the criteria. It will use a generic GPU kernel as fallback when running on GPU.\n"
          ]
        },
        {
          "output_type": "stream",
          "name": "stdout",
          "text": [
            "(1, 64, 2584, 1)\n",
            "1/1 [==============================] - 0s 357ms/step\n",
            "Predicted genre: jazz\n"
          ]
        }
      ]
    },
    {
      "cell_type": "code",
      "source": [
        "print(prediction)"
      ],
      "metadata": {
        "colab": {
          "base_uri": "https://localhost:8080/"
        },
        "id": "T8bPQ-GJfAuF",
        "outputId": "016a2f3e-1919-4d2a-bbeb-8b2b0d9f5d24"
      },
      "execution_count": null,
      "outputs": [
        {
          "output_type": "stream",
          "name": "stdout",
          "text": [
            "[[0.04929537 0.08487479 0.02769865 0.02312971 0.00998905 0.64990765\n",
            "  0.00080715 0.07238799 0.05203059 0.02987906]]\n"
          ]
        }
      ]
    },
    {
      "cell_type": "code",
      "source": [
        "print(np.argmax(prediction))"
      ],
      "metadata": {
        "id": "I39vvsIOfGw9",
        "outputId": "0d615422-80c1-409b-ce75-871488f90397",
        "colab": {
          "base_uri": "https://localhost:8080/"
        }
      },
      "execution_count": null,
      "outputs": [
        {
          "output_type": "stream",
          "name": "stdout",
          "text": [
            "5\n"
          ]
        }
      ]
    }
  ]
}